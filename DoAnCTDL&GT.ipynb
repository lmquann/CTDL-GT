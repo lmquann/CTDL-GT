{
  "nbformat": 4,
  "nbformat_minor": 0,
  "metadata": {
    "colab": {
      "name": "DoAnCTDL&GT.ipynb",
      "provenance": [],
      "authorship_tag": "ABX9TyPAjlEjkR5x7t3nV8WxIS/I",
      "include_colab_link": true
    },
    "kernelspec": {
      "name": "python3",
      "display_name": "Python 3"
    },
    "language_info": {
      "name": "python"
    }
  },
  "cells": [
    {
      "cell_type": "markdown",
      "metadata": {
        "id": "view-in-github",
        "colab_type": "text"
      },
      "source": [
        "<a href=\"https://colab.research.google.com/github/lmquann/CTDL-GT/blob/main/DoAnCTDL%26GT.ipynb\" target=\"_parent\"><img src=\"https://colab.research.google.com/assets/colab-badge.svg\" alt=\"Open In Colab\"/></a>"
      ]
    },
    {
      "cell_type": "code",
      "execution_count": 1,
      "metadata": {
        "colab": {
          "base_uri": "https://localhost:8080/"
        },
        "id": "YjGT4QHMX-FY",
        "outputId": "0fccdcd7-1100-4a1d-d664-cae6b130f426"
      },
      "outputs": [
        {
          "output_type": "stream",
          "name": "stdout",
          "text": [
            "Chuyển từ tòa 1 sang tòa 2\n",
            "chuyển từ tòa 1 sang tòa 3\n",
            "Chuyển từ tòa 2 sang tòa 3\n",
            "chuyển từ tòa 1 sang tòa 2\n",
            "Chuyển từ tòa 3 sang tòa 1\n",
            "chuyển từ tòa 3 sang tòa 2\n",
            "Chuyển từ tòa 1 sang tòa 2\n",
            "chuyển từ tòa 1 sang tòa 3\n",
            "Chuyển từ tòa 2 sang tòa 3\n",
            "chuyển từ tòa 2 sang tòa 1\n",
            "Chuyển từ tòa 3 sang tòa 1\n",
            "chuyển từ tòa 2 sang tòa 3\n",
            "Chuyển từ tòa 1 sang tòa 2\n",
            "chuyển từ tòa 1 sang tòa 3\n",
            "Chuyển từ tòa 2 sang tòa 3\n",
            "chuyển từ tòa 1 sang tòa 2\n",
            "Chuyển từ tòa 3 sang tòa 1\n",
            "chuyển từ tòa 3 sang tòa 2\n",
            "Chuyển từ tòa 1 sang tòa 2\n",
            "chuyển từ tòa 3 sang tòa 1\n",
            "Chuyển từ tòa 2 sang tòa 3\n",
            "chuyển từ tòa 2 sang tòa 1\n",
            "Chuyển từ tòa 3 sang tòa 1\n",
            "chuyển từ tòa 3 sang tòa 2\n",
            "Chuyển từ tòa 1 sang tòa 2\n",
            "chuyển từ tòa 1 sang tòa 3\n",
            "Chuyển từ tòa 2 sang tòa 3\n",
            "chuyển từ tòa 1 sang tòa 2\n",
            "Chuyển từ tòa 3 sang tòa 1\n",
            "chuyển từ tòa 3 sang tòa 2\n",
            "Chuyển từ tòa 1 sang tòa 2\n",
            "chuyển từ tòa 1 sang tòa 3\n",
            "Chuyển từ tòa 2 sang tòa 3\n",
            "chuyển từ tòa 2 sang tòa 1\n",
            "Chuyển từ tòa 3 sang tòa 1\n",
            "chuyển từ tòa 2 sang tòa 3\n",
            "Chuyển từ tòa 1 sang tòa 2\n",
            "chuyển từ tòa 1 sang tòa 3\n",
            "Chuyển từ tòa 2 sang tòa 3\n",
            "chuyển từ tòa 2 sang tòa 1\n",
            "Chuyển từ tòa 3 sang tòa 1\n",
            "chuyển từ tòa 3 sang tòa 2\n",
            "Chuyển từ tòa 1 sang tòa 2\n",
            "chuyển từ tòa 3 sang tòa 1\n",
            "Chuyển từ tòa 2 sang tòa 3\n",
            "chuyển từ tòa 2 sang tòa 1\n",
            "Chuyển từ tòa 3 sang tòa 1\n",
            "chuyển từ tòa 2 sang tòa 3\n",
            "Chuyển từ tòa 1 sang tòa 2\n",
            "chuyển từ tòa 1 sang tòa 3\n",
            "Chuyển từ tòa 2 sang tòa 3\n",
            "chuyển từ tòa 1 sang tòa 2\n",
            "Chuyển từ tòa 3 sang tòa 1\n",
            "chuyển từ tòa 3 sang tòa 2\n",
            "Chuyển từ tòa 1 sang tòa 2\n",
            "chuyển từ tòa 1 sang tòa 3\n",
            "Chuyển từ tòa 2 sang tòa 3\n",
            "chuyển từ tòa 2 sang tòa 1\n",
            "Chuyển từ tòa 3 sang tòa 1\n",
            "chuyển từ tòa 2 sang tòa 3\n",
            "Chuyển từ tòa 1 sang tòa 2\n",
            "chuyển từ tòa 1 sang tòa 3\n",
            "Chuyển từ tòa 2 sang tòa 3\n"
          ]
        }
      ],
      "source": [
        "#BT01\n",
        "def thapHaNoi(n, toaMot, toaHai, toaBa):\n",
        "\n",
        "    if n == 1:\n",
        "        print(\"Chuyển từ\", toaMot, \"sang\", toaBa)\n",
        "    else:\n",
        "        thapHaNoi(n-1,toaMot,toaBa ,toaHai)\n",
        "        print(\"chuyển từ\", toaMot, \"sang\", toaBa)\n",
        "        thapHaNoi(n-1,toaHai,toaMot, toaBa)\n",
        "\n",
        "thapHaNoi(6, \"tòa 1\", \"tòa 2\", \"tòa 3\")"
      ]
    },
    {
      "cell_type": "code",
      "source": [
        "#BT02\n",
        "def uscln(a, b):\n",
        "    if (b == 0):\n",
        "        return a\n",
        "    return uscln(b, a % b)\n",
        " \n",
        "a = int(input(\"Nhập số nguyên dương a = \"))\n",
        "b = int(input(\"Nhập số nguyên dương b = \"))\n",
        "print(\"Ước số chung lớn nhất của\", a, \"và\", b, \"là:\", uscln(a, b))"
      ],
      "metadata": {
        "colab": {
          "base_uri": "https://localhost:8080/"
        },
        "id": "C27PafP7YRE8",
        "outputId": "d0f19d97-a489-45e1-f350-7b9b4f85104e"
      },
      "execution_count": 2,
      "outputs": [
        {
          "output_type": "stream",
          "name": "stdout",
          "text": [
            "Nhập số nguyên dương a = 3\n",
            "Nhập số nguyên dương b = 5\n",
            "Ước số chung lớn nhất của 3 và 5 là: 1\n"
          ]
        }
      ]
    },
    {
      "cell_type": "code",
      "source": [
        "#BT03:\n",
        "def giaithua(n):\n",
        "    if n < 0:\n",
        "        return \"không tồn tại giai thừa của \" + str(n)\n",
        "    else:\n",
        "        a = 1\n",
        "        for i in range(n):\n",
        "            a = a*(i+1)\n",
        "        return a\n",
        "print(giaithua(-4))"
      ],
      "metadata": {
        "colab": {
          "base_uri": "https://localhost:8080/"
        },
        "id": "HFlSyLRFYnPy",
        "outputId": "222df4f3-883e-4acb-88e7-003b49d5eae8"
      },
      "execution_count": 3,
      "outputs": [
        {
          "output_type": "stream",
          "name": "stdout",
          "text": [
            "không tồn tại giai thừa của -4\n"
          ]
        }
      ]
    },
    {
      "cell_type": "code",
      "source": [
        "#BT04:\n"
      ],
      "metadata": {
        "id": "AOmY09BLb1g2"
      },
      "execution_count": null,
      "outputs": []
    },
    {
      "cell_type": "code",
      "source": [
        "#BT05:\n"
      ],
      "metadata": {
        "id": "5qc6U-OJb_dy"
      },
      "execution_count": null,
      "outputs": []
    }
  ]
}